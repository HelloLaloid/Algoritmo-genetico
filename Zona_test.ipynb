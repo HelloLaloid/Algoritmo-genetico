{
 "cells": [
  {
   "cell_type": "markdown",
   "metadata": {},
   "source": [
    "- Importaciones de librerias\n",
    "`WINDOW_SIZE`   :\n",
    "`GRID_SIZE`     :\n",
    "`CELL_SIZE`     :"
   ]
  },
  {
   "cell_type": "code",
   "execution_count": null,
   "metadata": {},
   "outputs": [],
   "source": [
    "import pygame\n",
    "import random\n",
    "# Dimensiones de la ventana y la cuadrícula\n",
    "WINDOW_SIZE = 800\n",
    "GRID_SIZE = 100\n",
    "CELL_SIZE = WINDOW_SIZE // GRID_SIZE\n",
    "\n",
    "# Colores\n",
    "WHITE = (255, 255, 255)\n",
    "BLACK = (0, 0, 0)\n",
    "BLUE = (0, 0, 255)\n",
    "RED = (255, 0, 0)\n",
    "GREEN = (0, 255, 0)\n",
    "DARK_GREEN = (34, 139, 34)\n"
   ]
  },
  {
   "cell_type": "markdown",
   "metadata": {},
   "source": [
    "# Clase individuo"
   ]
  },
  {
   "cell_type": "markdown",
   "metadata": {},
   "source": [
    "**Atributos**\n",
    "- genereración_actual   :   Guarda la generación del individuo\n",
    "- next_id               :   ¿ID para un individuo?"
   ]
  },
  {
   "cell_type": "code",
   "execution_count": null,
   "metadata": {},
   "outputs": [],
   "source": [
    "class Individuo:\n",
    "    generacion_actual = 1\n",
    "    next_id = 1"
   ]
  },
  {
   "cell_type": "markdown",
   "metadata": {},
   "source": [
    "**Inicializaciónm de clase individuo (o cromosoma)**\n",
    "- id                :   Indentificado unico para cada individuo\n",
    "- Padre id          :   Padre ID para identificar la herencia genetica\n",
    "- x                 :   Posición x en la matriz\n",
    "- y                 :   Posición y en la matriz\n",
    "- asesino           :   Indica si es asesino o no   \n",
    "- en_meta           :   Indica si alcanzó columna final\n",
    "- pasos             :   Indica la cantidad de movimiento que le tomó para llegar a la columna final\n",
    "- prob.derecha      :   Tendencia a la columna final\n",
    "- Individuo.next_id :   ??\n"
   ]
  },
  {
   "cell_type": "code",
   "execution_count": null,
   "metadata": {},
   "outputs": [],
   "source": [
    "def __init__(self, x, y, probabilidad_derecha=0.11, padre_id=None, asesino = False):\n",
    "        self.id = f\"P{padre_id if padre_id else 0}G{Individuo.generacion_actual}ID{Individuo.next_id}\"\n",
    "        self.padre_id = Individuo.next_id\n",
    "        self.x = x\n",
    "        self.y = y\n",
    "        self.asesino = asesino\n",
    "        self.en_meta = False\n",
    "        self.pasos = 0\n",
    "        self.probabilidad_derecha = probabilidad_derecha\n",
    "        Individuo.next_id += 1"
   ]
  },
  {
   "cell_type": "markdown",
   "metadata": {},
   "source": [
    "**Metodo mover**\n",
    "1. Verifica si ha llegado a la meta\n",
    "2. `movimientos`      :   Guarda una lista de movimientos posibles de un individuo, incluye no moverse\n",
    "3. `probabilidades`   :   Guarda las probabilidades de cada movimiento, respectivamente. \n",
    "4. `_dx, dy_`           :   Escoge de forma azar ...?\n",
    "5. ```python\n",
    "    if 0 <= new_x < GRID_SIZE and 0 <= new_y < GRID_SIZE:\n",
    "    ```\n",
    "    Verifica si el nuevo movimiento que se guardará en `new_x` y `new_y` está dentro de la matriz\n",
    "\n",
    "6. `collided_individual = next((ind for ind in otros_individuos if ind.x == new_x and ind.y == new_y and ind.id != self.id), None)`\n",
    "    Esto no sé que guarda\n",
    "\n",
    "7. \n"
   ]
  },
  {
   "cell_type": "code",
   "execution_count": 1,
   "metadata": {},
   "outputs": [],
   "source": [
    "def mover(self, grid, otros_individuos):\n",
    "        if self.en_meta:\n",
    "            return\n",
    "        # Movimientos posibles: Norte, Sur, Este, Oeste, Noreste, Noroeste, Sureste, Suroeste, No mover\n",
    "        movimientos = [(0, -1), (0, 1), (1, 0), (-1, 0), (1, -1), (-1, -1), (1, 1), (-1, 1), (0, 0)]\n",
    "        # Probabilidad de los movimientos\n",
    "        probabilidades = [0.11, 0.11, self.probabilidad_derecha, 0.11, 0.11, 0.11, 0.11, 0.11, 0.12]  \n",
    "        dx, dy = random.choices(movimientos, weights=probabilidades)[0]\n",
    "        new_x = self.x + dx\n",
    "        new_y = self.y + dy\n",
    "\n",
    "        # Verificar si el nuevo movimiento está dentro de los límites y no colisiona con otro individuo\n",
    "        if 0 <= new_x < GRID_SIZE and 0 <= new_y < GRID_SIZE:\n",
    "            # Verificar colisión con otro individuo\n",
    "            collided_individual = next((ind for ind in otros_individuos if ind.x == new_x and ind.y == new_y and ind.id != self.id), None)\n",
    "            if grid[new_y][new_x] == 0 and not collided_individual:\n",
    "                self.x = new_x\n",
    "                self.y = new_y\n",
    "                self.pasos += 1\n",
    "                # Verificar si alcanzó la meta\n",
    "                if new_x == GRID_SIZE - 1:\n",
    "                    self.en_meta = True\n",
    "            else:\n",
    "                #colisión\n",
    "                if collided_individual: \n",
    "                    if self.asesino:\n",
    "                        otros_individuos.remove(collided_individual)  \n",
    "                        self.x = new_x\n",
    "                        self.y = new_y\n",
    "                        if new_x == GRID_SIZE - 1:\n",
    "                            self.en_meta = True\n",
    "                    else:\n",
    "                        self.pasos += 1 "
   ]
  },
  {
   "cell_type": "markdown",
   "metadata": {},
   "source": [
    "# Funciones referentes al dibujo con pygame\n"
   ]
  },
  {
   "cell_type": "markdown",
   "metadata": {},
   "source": [
    "# MAIN\n",
    "1. `pygame.init()` : Inicia el pygame\n",
    "2. `screen` : Guarda tamaño de la ventana de visualización (ancho, alto)\n",
    "3. `pygame.display.set_caption(\"Algoritmo Genético - Simulación\")` : Establece titulo de la ventana\n",
    "4. `font` = Establece una fuente para la ventana, `none` indica la fuente predeterminanda de pygame y `36` es el tamaño\n",
    "5. `clock` = Crea un objeto reloj que se usa para controlar la tasa de actualización de la simulación\n"
   ]
  },
  {
   "cell_type": "code",
   "execution_count": null,
   "metadata": {},
   "outputs": [],
   "source": [
    "def main():\n",
    "    pygame.init()\n",
    "    screen = pygame.display.set_mode((WINDOW_SIZE * 1.5, WINDOW_SIZE))\n",
    "    pygame.display.set_caption(\"Algoritmo Genético - Simulación\")\n",
    "    font = pygame.font.Font(None, 36)\n",
    "    clock = pygame.time.Clock()\n",
    "\n",
    "    # Inicialización de la población de individuos (cromosomas)\n",
    "    population_size = 10\n",
    "    population = []\n",
    "    ganadores = []\n",
    "    Max_turnos = 2000\n",
    "    for _ in range(population_size):\n",
    "        x = random.randint(0, GRID_SIZE - 3)\n",
    "        y = random.randint(0, GRID_SIZE - 1)\n",
    "        population.append(Individuo(x, y, probabilidad_derecha=0.11))  # Probabilidad base de 0.11 para la primera generación\n",
    "    turno = 1\n",
    "\n",
    "    running = True\n",
    "    while running:\n",
    "        screen.fill(WHITE)\n",
    "\n",
    "        grid = [[0 for _ in range(GRID_SIZE)] for _ in range(GRID_SIZE)]\n",
    "        draw_grid(screen)\n",
    "        highlight_rightmost_column(screen)\n",
    "        draw_individuals(screen, population)\n",
    "        draw_info(screen, font, turno, population)\n",
    "        \n",
    "        # Mover individuos y verificar si todos los puestos de la meta están ocupados\n",
    "        move_individuals(population, grid)\n",
    "        ganadores = [(ind.id, ind.pasos, ind.probabilidad_derecha, ind.padre_id) for ind in population if ind.en_meta]\n",
    "\n",
    "        if len(ganadores) >= GRID_SIZE or all(ind.en_meta for ind in population) or turno == Max_turnos:\n",
    "            # Ordenar ganadores por número de pasos\n",
    "            ganadores.sort(key=lambda x: x[1])\n",
    "            draw_winners(screen, font, ganadores)\n",
    "            print(f\"Ganadores: \\n {', '.join([f'{ganador[0]} ({ganador[1]} pasos, P.derecha: {ganador[2]:.2f}) ' for ganador in ganadores])}\"\"\\n\")\n",
    "            \n",
    "            #eliminar al ultimo si son ganadores impares\n",
    "            print(len(ganadores))\n",
    "            if not len(ganadores) % 2 == 0:\n",
    "                ganadores.pop()\n",
    "\n",
    "            # Crear nueva generación\n",
    "            Individuo.generacion_actual += 1\n",
    "\n",
    "            # Eliminar población actual\n",
    "            population.clear()\n",
    "\n",
    "            #aumentar proabilidad a la derecha de los ganadores\n",
    "            for ganador in ganadores:\n",
    "                ganador[2] + 0.2\n",
    "            \n",
    "            Numero_hijos = 0\n",
    "            Numero_hijos = len(ganadores)\n",
    "            restantes = population_size - Numero_hijos \n",
    "\n",
    "            print(Numero_hijos)\n",
    "            print(restantes)\n",
    "            # Generar nueva generación con herencia de probabilidad y padres\n",
    "            while Numero_hijos > 0:\n",
    "                for i in range(0,len(ganadores),2):\n",
    "                    x = random.randint(0, GRID_SIZE - 3)\n",
    "                    y = random.randint(0, GRID_SIZE - 1)\n",
    "                    padre1 = ganadores[i]\n",
    "                    padre2 = ganadores[i+1] \n",
    "                    probabilidad_derecha = padre1[2] + padre2[2] /2 # Suma de las probabilidades de los padres\n",
    "                    padre_id = padre1[3]  # ID del primer padre\n",
    "                    population.append(Individuo(x, y, probabilidad_derecha, padre_id))\n",
    "                    Numero_hijos -= 1\n",
    "\n",
    "            #los no ganadores    \n",
    "            for i in range(int(restantes)):\n",
    "                x = random.randint(0, GRID_SIZE - 3)\n",
    "                y = random.randint(0, GRID_SIZE - 1)\n",
    "                probabilidad_derecha = 0.11\n",
    "                padre_id = 0\n",
    "                asesino = random.random() < 0.1\n",
    "                population.append(Individuo(x, y, probabilidad_derecha, padre_id, asesino))\n",
    "            turno = 1\n",
    "        else:\n",
    "            turno += 1\n",
    "\n",
    "        for event in pygame.event.get():\n",
    "            if event.type == pygame.QUIT:\n",
    "                running = False\n",
    "\n",
    "        pygame.display.flip()\n",
    "        clock.tick(100)\n",
    "    pygame.quit()"
   ]
  }
 ],
 "metadata": {
  "kernelspec": {
   "display_name": "workpy311",
   "language": "python",
   "name": "python3"
  },
  "language_info": {
   "codemirror_mode": {
    "name": "ipython",
    "version": 3
   },
   "file_extension": ".py",
   "mimetype": "text/x-python",
   "name": "python",
   "nbconvert_exporter": "python",
   "pygments_lexer": "ipython3",
   "version": "3.11.5"
  }
 },
 "nbformat": 4,
 "nbformat_minor": 2
}
