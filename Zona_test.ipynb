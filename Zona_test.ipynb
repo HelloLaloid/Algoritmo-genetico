{
 "cells": [
  {
   "cell_type": "markdown",
   "metadata": {},
   "source": [
    "**Definición de clase individuo (o cromosoma)**\n",
    "- id            : \n",
    "- x             :   Posición x en la cuadricula\n",
    "- y             :   Posición y en la cuadricula\n",
    "- elemento      :    \n",
    "- en_meta       :   Indica si alcanzó columna final\n",
    "- padre         :   Información de su padre\n",
    "- %derecha      :   Tendencia a la columna final\n",
    "- Individuonext :   \n",
    "\n",
    "---\n",
    "\n",
    "**Metodo mover**\n",
    "- Verifica si ha alcanzado la meta\n",
    "- Se definen los movmientos de un cromosoma\n",
    "- Se definen probabilidades de un movimiento"
   ]
  }
 ],
 "metadata": {
  "kernelspec": {
   "display_name": "workpy311",
   "language": "python",
   "name": "python3"
  },
  "language_info": {
   "name": "python",
   "version": "3.11.5"
  }
 },
 "nbformat": 4,
 "nbformat_minor": 2
}
